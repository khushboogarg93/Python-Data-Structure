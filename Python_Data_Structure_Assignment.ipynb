{
  "nbformat": 4,
  "nbformat_minor": 0,
  "metadata": {
    "colab": {
      "provenance": []
    },
    "kernelspec": {
      "name": "python3",
      "display_name": "Python 3"
    },
    "language_info": {
      "name": "python"
    }
  },
  "cells": [
    {
      "cell_type": "markdown",
      "source": [
        "# Python Data Structure"
      ],
      "metadata": {
        "id": "8WMASWyX9oD9"
      }
    },
    {
      "cell_type": "markdown",
      "source": [
        "### 1. What are data structures, and why are they important?\n",
        "\n",
        " > What\n",
        "\n",
        "   - Its a way of organizing and storing the data so that it can ve accessed and manipulated easily.\n",
        "\n",
        "   - Data structures are specialized formats for organizing, storing, and accessing collections of data.\n",
        "\n",
        "   - They provide efficient ways to manage information based on its characteristics and intended use.\n",
        "\n",
        "   - Think of them as containers that hold your data and determine how you can interact with it. Different containers are better suited for different types of items.\n",
        "\n",
        "> Why they are important\n",
        "\n",
        "  - Choosing the right data structure significantly impacts the efficiency and performance of your program.\n",
        "\n",
        "  - Well-chosen data structures can:\n",
        "   - Simplify data manipulation like adding, removing, modifying elements\n",
        "   - Optimize searching and sorting operations\n",
        "   - Conserve memory usage\n",
        "\n",
        "\n",
        "> There are 5 Types of Widely used Data Structure available in Python\n",
        "\n",
        " - Strings\n",
        " - List\n",
        " - Tuple\n",
        " - Set\n",
        " - Dictionary\n",
        " - Arrays\n",
        "\n",
        "\n",
        "\n",
        "---\n",
        "\n",
        "\n",
        "---\n",
        "\n",
        "### 2. Explain the difference between mutable and immutable data types with examples?\n",
        "\n",
        "> Mutable\n",
        "\n",
        " - if we can change the state of object after creation i.e. mutable objects.\n",
        "\n",
        " - In Python Programming we have several data types and data structures like string, tuple, dictionary , list etc.\n",
        "\n",
        " - If we can edit or modified them then its a mutable data type or data structure else no.\n",
        "\n",
        " - In other words, if we can changed the state after they are created are called mutable objects or containers or item assignment in python i.e. mutability in python.\n",
        "\n",
        " - for ex - List is a mutable object which supports item assignment. list_container = [1, 2, 3, 4.5, 3+5j, true, \"Khushboo\"] now if i want to change from \"Khushboo\" to \"Jyoti\" then its a mutable object.\n",
        "\n",
        " list_container[6] = \"Jyoti\" --- then it will be changed.\n",
        "\n",
        " - Some more mutable data structures are - List, Set, Dictionary\n",
        "\n",
        "> Immutable\n",
        "\n",
        " - if we can not change the state of object after creation i.e. imutable objects.\n",
        "\n",
        " - when we can't change state of object after creation i.e. Immutable objects. If we tried it throws exceptions.\n",
        "\n",
        " - for ex - when you tried to change their state after creation it will throw the exception\n",
        "  ex - my_tuple = (1,2,3) now if i want to change their first index value like my_tuple[0] = 10 then it will throw the exception because their state can't be changed after creation.\n",
        "\n",
        " - Some more imutable data structures are - string, Tuple\n",
        "\n",
        "\n",
        "---\n",
        "---\n",
        "\n",
        "### 3. What are the main differences between lists and tuples in Python?\n",
        "\n",
        "> LIST\n",
        "\n",
        " - List is one of the widely used data structure in python.\n",
        "\n",
        "  - List are mutable type i.e. we can change their state anytime whenever we want.\n",
        "\n",
        " - List are hetrogenous data structure i.e. they can store any of the data type in it like int/string/bool/float/complex/list etc. just like are mom's beg.\n",
        "\n",
        " - List is order collection of elements that can be of any data type and can be accessed based on index.\n",
        "\n",
        " - Using List we can add, remove, or modify elements within a list using indexing and slicing.\n",
        "\n",
        " - Lists are versatile for storing and managing collections that might change.\n",
        "\n",
        " - Lists offer this flexibility in data storage.\n",
        "\n",
        " - ex- shopping cart where we can add new items, remove unwanted ones, or change quantities as per our need.\n",
        "\n",
        " - for ex -\n",
        "  list_container = [1, 2, 3, 4.5, 3+5j, true, \"Khushboo\"] now if i want to change from \"Khushboo\" to \"Jyoti\" then its a mutable object.\n",
        "\n",
        "  list_container[6] = \"Jyoti\" --- then it will be changed.\n",
        "\n",
        "\n",
        "> TUPLE\n",
        "\n",
        " - Tuples are also ordered collection of data types simmilar like list.\n",
        "\n",
        " - Tupes are immutable type i.e. we can not change the state of object after creation\n",
        "\n",
        " - They provide a secure way to store data that shouldn't be modified like suppose we have ATM Card, employee id, Bank Account number that can be used and unique numbers for each person and should not be modified.\n",
        "\n",
        " - We can access elements using indexing and slicing, but we cannot modify the content\n",
        "\n",
        " - Tuples are useful for representing fixed datasets or configurations.\n",
        "\n",
        " - ex - my_tuple = (1,2,3) now if i want to change their first index value like my_tuple[0] = 10 then it will throw the exception.\n",
        "\n",
        "\n",
        "---\n",
        "---\n",
        "\n",
        "### 4. Describe how dictionaries store data?\n",
        "\n",
        "> DICTIONARIES\n",
        "\n",
        " - Dictionary is the fastest data structure among all the data structure.\n",
        "\n",
        " - Dictionaries are Unordered collectionsof data i.e.  Elements are not stored in a specific order.\n",
        "\n",
        " - It has Unique key-value pairsstructure i.e. Each key acts as a unique identifier for retrieving an associated value.\n",
        "\n",
        " - It has Flexible data i.e. Keys and values can be of various data types (strings, numbers, lists, and even other dictionaries).\n",
        "\n",
        "> How Dictionaries store data\n",
        "\n",
        " - Dictionaries store data in the key value pair in curly braces.\n",
        "\n",
        " - Key must be unique in dictionary. It can not be duplicate.But value can be.\n",
        "\n",
        " - Syntax - my_dict = {key1 : value1, key2 : value2}\n",
        "\n",
        " - Operations can be acheived like\n",
        "  - ADD - Use direct assignment or .update method\n",
        "  - Access - Retrieve values using their keys\n",
        "  - Remove - Use del, .pop, .popItem we can do remove process.\n",
        "  \n",
        " - Ex-\n",
        "    my_dict = {\"key-course\" : \"data science\", \"duration\" : 200}\n",
        "    my_dict // output - {'key-course' : 'data science', 'duration' : 200}\n",
        "    type(my_dict) // o/p - dict\n",
        "    my_dict[\"duration\"]  // o/p - 200\n",
        "    my_dict[\"duration\"] = 300 // o/p - it will be modified.\n",
        "\n",
        "\n",
        "---\n",
        "---\n",
        "\n",
        "### 5. Why might you use a set instead of a list in Python?\n",
        "\n",
        "> When to use set -\n",
        "\n",
        "   - There can be many scenario and needed based reasons of using set instead of list.\n",
        "\n",
        "   - Both are mutable data structures. But there are having their own capabilities -\n",
        "    1. No duplication allowed - Sets are unique data structure they do not allow any kind of duplications but list can allowed. So if we need any data structure who can provide unique behviour we can go with sets.\n",
        "\n",
        "    2. Faster Membership Testing - Checking if an item exists in a set is much faster (on average O(1)) than in a list (O(n)) because sets use a hash table under the hood.\n",
        "\n",
        "    3. Mathematical Set Operations - Sets support operations like union, intersection, difference, and symmetric difference, which are handy for comparing collections of items.\n",
        "\n",
        "    4. Cleaner Code for Unique Data - If we know our data should be unique from the start, using a set keeps your code cleaner and your intent clear.\n",
        "\n",
        "> When NOT to use a set:\n",
        "\n",
        "  - When order matters as sets are unordered data structures.\n",
        "  - When we need duplicate values as well.\n",
        "  - When we need to index or slice as sets dont support indexing.\n",
        "\n",
        "\n",
        "---\n",
        "---\n",
        "\n",
        "### 6. What is a string in Python, and how is it different from a list?  \n",
        "\n",
        "> STRING\n",
        "\n",
        "  - String in Python is a sequence of characters, used to represent text and manipulate texual data.\n",
        "\n",
        "  - Characters arranged in an unchangeable order.\n",
        "\n",
        "  - Each character in the string can be accessed by its index, or position.\n",
        "  \n",
        "  - Substrings can be extracted using slicing. Strings can be joined together and altered using a variety of techniques (find, replace, etc.).\n",
        "\n",
        "  - Character are represented using numerical values that each character is assigned a unique value.\n",
        "\n",
        "  - ex- a = \"Khushboo\" here 'K' computer can not understand as computer can understand only 0's and 1's. so 'K' should be some unique numerical value.\n",
        "\n",
        "  - To convert this 'K' we have different encoding techniques like ACII (7 bits) and Unicode (16 bits.)\n",
        "\n",
        "  - ex- Picture a bookshelf with strings instead of books. The data is represented by the title on the cover like the spine (characters), and you can access individual words (characters) based on where they are located on the shelf (index).\n",
        "\n",
        "  - Ex = string_New = \"Khushboo\"\n",
        "\n",
        "> Difference between String and List\n",
        "\n",
        "  1. String can have characters only , but list can have any data type of collection.\n",
        "\n",
        "  2. Strings are Immutable but lists are mutable\n",
        "\n",
        "  3. Syntax -\n",
        "    string_new = \"khushboo\"\n",
        "\n",
        "    list_new = [\"hello\", 123, 2.3, True, 3+2j]\n",
        "  \n",
        "  4. Can access by index both\n",
        "    string -> string_new[0] o/p - k\n",
        "    list -> list_new[1] o/p - 123\n",
        "\n",
        "  5. Slicing can be done in both\n",
        "    string -> string_new[1:4] o/p - hus\n",
        "    list -> list_new[1:2] o/p - [123]\n",
        "\n",
        "  6. String can different methods to do operations like - .upper, .replace etc.\n",
        "      List methods - .append, .pop etc.\n",
        "\n",
        "\n",
        "\n",
        "---\n",
        "---\n",
        "\n",
        "### 7. How do tuples ensure data integrity in Python?   \n",
        "  \n",
        " - Tuples help ensure data integrity in Python primarily because they are immutable — once we create a tuple, we can't change it.\n",
        "\n",
        " - We can't add, remove, or change elements in Tuple.\n",
        "\n",
        " - t = (1, 2, 3)\n",
        "   t[0] = 10  // will throw the exception\n",
        "\n",
        " - Protection from Accidental Changes - Since we can't modify tuples, they act like a lockbox for our data — perfect for storing values when we dont want changed by mistake.\n",
        "\n",
        " - Some more ex- like ATM Card, Bank Account number, Employee id that we definately dont want to change.\n",
        "\n",
        " - If the data needs to stay fixed, tuples are good to go.\n",
        "\n",
        " - That's why we can say that tuple ensures data integrity in Python with enrich of use cases.\n",
        "\n",
        "---\n",
        "---\n",
        "\n",
        "### 8. What is a hash table, and how does it relate to dictionaries in Python?    \n",
        "  \n",
        "- Hash table is a data structure that stores key-value pairs and allows for very fast lookup, insertion, and deletion — on average, in O(1) time.\n",
        "\n",
        "- In Python, dictionary is implemented using a hash table under the hood.\n",
        "\n",
        "- Hash table uses a hash function to turn a key into an index in an array.\n",
        "\n",
        "- key-value pair is stored at that index\n",
        "\n",
        "- EX - my_dict = {\"apple\": 3}\n",
        "  here Hashes are the key like \"apple\" and that stores the value 3 at the calculated index.\n",
        "\n",
        "- Keys must be hashable.\n",
        "\n",
        "- Collisions - when two keys hash to the same index,  are handled behind the scenes by Python.\n",
        "\n",
        "- ex-\n",
        "   my_dict = {\"name\": \"Khushboo\", \"age\": 24}\n",
        "   print(my_dict[\"name\"])  // It Uses the hash of \"name\" to find the value\n",
        "\n",
        "\n",
        "---\n",
        "---\n",
        "\n",
        "### 9. Can lists contain different data types in Python?     \n",
        "\n",
        "- Yes, in Python lists can contain different data types.\n",
        "\n",
        "- List are hetrogenous data structure i.e. they can store any of the data type in it like int/string/bool/float/complex/list etc. just like are mom's beg.\n",
        "\n",
        "- ex- my_list = [42, \"hello\", 3.14, True, [1, 2, 3], (1, 2), {\"key\": \"value\"}]\n",
        "\n",
        "- Here 42 is integer, \"hello\" is string, 3.14 is float, True is boolean, [1,2,3] is list, (1, 2) is tuple, {\"key\": \"value\"} dictionary.\n",
        "\n",
        "\n",
        "\n",
        "---\n",
        "---\n",
        "\n",
        "### 10. Explain why strings are immutable in Python?      \n",
        "\n",
        "- Strings in Python are immutable i.e. once we created a string, you can’t change it\n",
        "\n",
        "- Strings provide data integrity & safety i.e. Immutability helps keep your code safe from unexpected changes\n",
        "\n",
        "- Once a string is created, no other part of our code can change it — which reduces bugs and makes our code more predictable.\n",
        "\n",
        "- It has performance benefits as well\n",
        "\n",
        "- Since strings can't be changed, they are automatically safe to share between threads — no need for locking or complicated synchronization.\n",
        "\n",
        "- All string operations (like .replace(), .upper(), .strip()) return new strings instead of changing the original. This makes it easy to reason about what your code is doing.\n",
        "\n",
        "- for ex -\n",
        "\n",
        "    text = \"python\"\n",
        "    new_text = text.upper() // op - PYTHON\n",
        "    print(text // op - python\n",
        "\n",
        "- Everytime it creates a new copy instead of changing the new original string.\n",
        "\n",
        "---\n",
        "---\n",
        "\n",
        "### 11. What advantages do dictionaries offer over lists for certain tasks?       \n",
        "  \n",
        "- Dictionaries offer various advantages over lists for certain tasks, particularly when it comes to organizing and accessing data efficiently.\n",
        "\n",
        "- Below are the key advantages:\n",
        "  1. Fast Lookup by Key - Dictionaries provide constant-time O(1) access to values using unique keys while lists require linear-time O(n) search if we are looking for an item by value.\n",
        "\n",
        "  2. Key-Value Pair Organization - Dictionaries store data as {key: value} pairs, which is intuitive and expressive for many real-world problems while lists store data sequentially by index, which can be limiting when data has labels or identifiers.\n",
        "\n",
        "  3. Avoiding Duplicates - Dictionary keys must be unique, helping to automatically avoid duplicate identifiers while lists can contain duplicates unless explicitly checked.\n",
        "\n",
        "  4. Improved Readability & Maintainability - Dictionary usage often makes code more readable and self-explanatory, especially when handling structured data.\n",
        "\n",
        "   ex- dict_user = {'name': 'Khushboo', 'age': 24} // more readable\n",
        "      list_user = ['Khushboo', 24]. // not so much readable\n",
        "\n",
        "  5. Dynamic Data Modeling - Easier to model entities with varying attributes using dictionaries while Lists are better for uniform sequences of items like rows in a table.\n",
        "\n",
        "\n",
        "So generally dict used when we need labeled access to data or fast lookups by unique identifiers while lists when we need an ordered collection of items without labeled access.\n",
        "\n",
        "---\n",
        "---\n",
        "\n",
        "### 12. Describe a scenario where using a tuple would be preferable over a list?        \n",
        "\n",
        " - Tuples are immutable data types while lists are mutable data types i.e. tuples can not be changed once created while lists can be.\n",
        "\n",
        " - There are various scenarios where using tuple is more preferable over list\n",
        "  1. Protection from Accidental Changes - Since we can't modify tuples, they act like a lockbox for our data — perfect for storing values when we dont want changed by mistake.\n",
        "\n",
        "    - Some more ex- like ATM Card, Bank Account number, Employee id that we definately dont want to change.\n",
        "\n",
        "    - If the data needs to stay fixed, tuples are good to go.\n",
        "\n",
        "  2. Tuples are slightly faster and use less memory than lists.\n",
        "\n",
        "  3. tuple implies the structure is fixed — two values, in a specific order, no more, no less.\n",
        "\n",
        "  4. tuples are hashable, lists are not\n",
        "\n",
        "\n",
        "So in general, tuple is more preferable when the data is a fixed collection of items that should stay constant while a list when the data might change or grow.\n",
        "\n",
        "\n",
        "---\n",
        "---\n",
        "\n",
        "### 13. How do sets handle duplicate values in Python?        \n",
        "\n",
        "- Sets has unique quality to eliminate duplicates i.e. the power of sets.\n",
        "\n",
        "- When we create a set, only unique elements are stored and any duplicates are silently removed automatically.\n",
        "\n",
        "- ex- numbers = {1, 2, 2, 3, 4, 4, 4, 5}\n",
        "     print(numbers) o/p - {1,2,3,4,5} // here 2,3,4 are repeated and removed (it keeps only 1st occurence)\n",
        "\n",
        "- Sets removes duplicates because sets are built on hash tables, similar to dictionaries.\n",
        "\n",
        "- Each element must be hashable and unique, Python checks the hash of each item and only keeps one per hash.\n",
        "\n",
        "---\n",
        "---\n",
        "\n",
        "### 14. How does the “in” keyword work differently for lists and dictionaries?        \n",
        "\n",
        "> \"in\" keyword in List\n",
        "  - \"in\" operator checks if a value exists anywhere in the list.\n",
        "\n",
        "  - it takes linear search time complexity 0(n)\n",
        "\n",
        "  - ex - fruits = [\"apple\", \"banana\", \"cherry\"]\n",
        "    print(\"banana\" in fruits) // op - True\n",
        "    print(\"mango\" in fruits)  // op - False\n",
        "  \n",
        "> \"in\" keyword in Dictionary\n",
        "  - \"in\" operator checks if a key exists or not (only key not a value)\n",
        "\n",
        "  - it takes constant search time complexity 0(1)\n",
        "\n",
        "  - for ex - person = {\"name\": \"Khushboo\", \"age\": 24}\n",
        "            print(\"name\" in person) //op - True\n",
        "            print(\"Khushboo\" in person) // op - False\n",
        "\n",
        "  - for checking by value\n",
        "    - print(\"Khushboo\" in person.values()) //op- True\n",
        "\n",
        "---\n",
        "---\n",
        "\n",
        "### 15. Can you modify the elements of a tuple? Explain why or why not?\n",
        "\n",
        "- No, We cannot modify the elements of a tuple.\n",
        "\n",
        "- Because tuples are immutable data types. Once tuple created we can not changed, added or removed it. Items will be locked after creation.\n",
        "\n",
        "- They are designed for specically data integrity scenario where we want to protect our data from any accidental change.\n",
        "\n",
        "- Its safer to used as fixed records.\n",
        "\n",
        "- ex - t = (1, 2, 3)\n",
        "       t[0] = 10  // will throw the exception\n",
        "\n",
        "- But if a tuple contains a mutable object like a list we can modify that object even though the tuple itself is still immutable.\n",
        "\n",
        "- ex- t = (1, [2, 3], 4) // here [2,3] is a list\n",
        "      t[1].append(99) // no error for list type data\n",
        "      print(t) // op - (1, [2, 3, 99], 4)\n",
        "\n",
        "---\n",
        "---\n",
        "\n",
        "### 16. What is a nested dictionary, and give an example of its use case?\n",
        "- Nested dictionary is just a dictionary inside another dictionary.\n",
        "\n",
        "- It represent hierarchical structured data like a tree or table\n",
        "\n",
        "- ex - students = {\n",
        "          \"101\": {\"name\": \"Khushboo\", \"grade\": \"B\"},\n",
        "          \"102\": {\"name\": \"Arvind\", \"grade\": \"A\"},\n",
        "          \"103\": {\"name\": \"Rita\", \"grade\": \"A+\"},\n",
        "          \"104\": {\"name\": \"Anil\", \"grade\": \"B+\"}\n",
        "          }\n",
        "- this is the example of nested dict where outer key is studentId and inner keys is student details with key as name.\n",
        "\n",
        "- it helps in organizing the complex data in a clear, flexible, and readable way.\n",
        "\n",
        "- Use case\n",
        "  1. Student management system or Employee management system in any organization\n",
        "\n",
        "    - Suppose we are managing a school system where each student has:Id , name and grade etc.\n",
        "\n",
        "    - we can then easily access or update individual student data like:\n",
        "       print(students[\"104\"][\"name\"]) // op - 'Anil'\n",
        "       students[\"103\"][\"grade\"] = \"A++\" // it will be changed\n",
        "\n",
        "so in general nested dictionary helps us to store and organize related data for each key. It is perfect for representing complex, structured info like profiles, configurations, or JSON data etc.\n",
        "\n",
        "---\n",
        "---\n",
        "\n",
        "### 17. Describe the time complexity of accessing elements in a dictionary?\n",
        "\n",
        "- Dictionary uses key hash mechanism to access the data.\n",
        "\n",
        "- It is widely and faster among all data structures for accessing the data via the key.\n",
        "\n",
        "- When we access any data in dict\n",
        "  - Average case tc = 0(1) i.e. constant time because dict implemented using hash tables\n",
        "    - ex - person = {\"name\": \"Khushboo\", \"age\": 24}\n",
        "           print(person[\"age\"]) // it takes key as age then hashes it using hash function and then jump directly to memory location where it is stored thats why it takes constant time.\n",
        "\n",
        "  - Worst case tc = 0(n) i.e. linear - its a rare case when hash collision happened i.e. If many keys hash to the same bucket then python has to search through a chain of entries in that bucket.\n",
        "\n",
        "\n",
        "---\n",
        "---\n",
        "\n",
        "### 18. In what situations are lists preferred over dictionaries?\n",
        "\n",
        "- Lists also has lot of situation where we need to prefer it compare to dictionary  \n",
        "\n",
        "- Below are the key situations :\n",
        "  1. When we need an Ordered Collection of Items - Lists maintain insertion order (since Python 3.6+), and they are ideal when the order of elements matters — like a playlist, a queue, or a series of steps.\n",
        "\n",
        "   ex- steps = [\"turn on oven\", \"mix batter\", \"bake\", \"cool\", \"serve\"]\n",
        "\n",
        "  2. When we are working with a sequence of similar items - When all elements are of the same type like all integers, strings, or objects, lists are a simple and lightweight choice.\n",
        "   ex - scores = [85, 92, 78, 90]\n",
        "\n",
        "  3. When we want to iterate over items in order - Lists are perfect for for-loops when the sequence and order matter.\n",
        "\n",
        "   ex - for score in scores:\n",
        "            print(score)\n",
        "\n",
        "  4. When we need index based access of elements\n",
        "     ex - print(scores[2]) // 78\n",
        "\n",
        "  5. When we dont need a Key-Value Pairing\n",
        "\n",
        "  6. When we dont care about the duplication of keys/values.\n",
        "\n",
        "\n",
        "So generally list used when we need access data in sequential manner does not required lot of efforts.\n",
        "\n",
        "\n",
        "---\n",
        "---\n",
        "\n",
        "### 19. Why are dictionaries considered unordered, and how does that affect data retrieval?\n",
        "\n",
        "- In older versions of Python i.e. < 3.6, Dictionaries didn not preserve the insertion order of keys.\n",
        "\n",
        "- Internally, they used hash tables optimized purely for speed, not for order.\n",
        "\n",
        "- ex- when you added a key in does not preseve the order\n",
        "  d = {'a': 1, 'b': 2, 'c': 3}\n",
        "  print(d) // op - {'b': 2, 'a': 1, 'c': 3} it can be in any order that mades dict unordered where we can't rely on the sequence of items.\n",
        "\n",
        "- In later or new versions it starts preserving the order as well in python (+3.7 version)\n",
        "  ex - d = {'a': 1, 'b': 2, 'c': 3}\n",
        "       print(d) // op - {'a': 1, 'b': 2, 'c': 3} // order will be same\n",
        "\n",
        "- So now, while the dictionary still uses a hash table, it also keeps track of insertion order.\n",
        "\n",
        "- So it does not affect any data retrieval even maintaining the insertion order it still gives 0(1) tc. so we can say no effect but better with the version.\n",
        "\n",
        "---\n",
        "---\n",
        "\n",
        "### 20. Explain the difference between a list and a dictionary in terms of data retrieval.\n",
        "\n",
        "> List\n",
        "\n",
        " - Lists store elements in a sequential, ordered manner\n",
        "\n",
        " - we can access elements by their index starting from 0.\n",
        "\n",
        " - List are mutable i.e. we can change the state of an object easily without any problem\n",
        "\n",
        " - List allowed duplicates.\n",
        "\n",
        " - ex - fruits = [\"apple\", \"banana\", \"cherry\"]\n",
        "        print(fruits[1]). // op -- banana\n",
        "\n",
        " - Here it is accessed by index so tc - 0(1) constant time\n",
        "\n",
        " - if we search by value then 0(n) linear time.\n",
        "\n",
        " > Dictionary\n",
        "\n",
        "  - Dictionaries store key-value pairs.\n",
        "\n",
        "  - We can access values by their keys, not their positions.\n",
        "\n",
        "  - Dict are also mutable type i.e. we can change the state of an object easily without any problem\n",
        "\n",
        "  - Dict uses hash table to access the data\n",
        "\n",
        "  - Dict does not allowed duplicates.\n",
        "\n",
        "  - for ex - person = {\"name\": \"Khushboo\", \"age\": 24}\n",
        "             print(person[\"age\"]) // op - 24\n",
        "\n",
        "  - Here it is accessed by index so tc - 0(1) constant time\n",
        "\n",
        "  - if we search by value then 0(n) linear time.\n",
        "\n",
        "\n",
        "so in general use lists when we need to care about order or position while use dictionaries when we need to look things up by key, dict are super fast and efficient compares to list.\n"
      ],
      "metadata": {
        "id": "lHYmLnd5bM-b"
      }
    },
    {
      "cell_type": "markdown",
      "source": [
        "# Practical Questions"
      ],
      "metadata": {
        "id": "XqOM3_lfISN6"
      }
    },
    {
      "cell_type": "code",
      "source": [
        "# 1. Write a code to create a string with your name and print it.\n",
        "\n",
        "my_name = \"Khushboo Garg\"\n",
        "print(\"My name is\", my_name)"
      ],
      "metadata": {
        "colab": {
          "base_uri": "https://localhost:8080/"
        },
        "id": "znqatlKFIRAn",
        "outputId": "8f1562cd-b47d-4530-dc57-4765fb168176"
      },
      "execution_count": 7,
      "outputs": [
        {
          "output_type": "stream",
          "name": "stdout",
          "text": [
            "My name is Khushboo Garg\n"
          ]
        }
      ]
    },
    {
      "cell_type": "code",
      "source": [
        "# 2. Write a code to find the length of the string \"Hello World\"\n",
        "my_string = \"Hello World\"\n",
        "print(len(my_string))"
      ],
      "metadata": {
        "colab": {
          "base_uri": "https://localhost:8080/"
        },
        "id": "k390GsGIAc8L",
        "outputId": "94639336-5855-4e8d-8b50-11dfc3a2b7bd"
      },
      "execution_count": 8,
      "outputs": [
        {
          "output_type": "stream",
          "name": "stdout",
          "text": [
            "11\n"
          ]
        }
      ]
    },
    {
      "cell_type": "code",
      "source": [
        "# 3. Write a code to slice the first 3 characters from the string \"Python Programming\"\n",
        "my_string = \"Python Programming\"\n",
        "print(my_string[:3])"
      ],
      "metadata": {
        "colab": {
          "base_uri": "https://localhost:8080/"
        },
        "id": "-N0KcsJDAb26",
        "outputId": "b1d50bfe-30cd-4c32-a815-c41b2c093d02"
      },
      "execution_count": 10,
      "outputs": [
        {
          "output_type": "stream",
          "name": "stdout",
          "text": [
            "Pyt\n"
          ]
        }
      ]
    },
    {
      "cell_type": "code",
      "source": [
        "# 4. Write a code to convert the string \"hello\" to uppercase\n",
        "my_string = \"hello\"\n",
        "print(my_string.upper())"
      ],
      "metadata": {
        "colab": {
          "base_uri": "https://localhost:8080/"
        },
        "id": "AK1cWGfJAjmE",
        "outputId": "f14df459-8b5d-4926-9acd-0c3169fc1784"
      },
      "execution_count": 14,
      "outputs": [
        {
          "output_type": "stream",
          "name": "stdout",
          "text": [
            "HELLO\n"
          ]
        }
      ]
    },
    {
      "cell_type": "code",
      "source": [
        "# 5. Write a code to replace the word \"apple\" with \"orange\" in the string \"I like apple\"\n",
        "my_string = \"I like apple\"\n",
        "replaced_string = my_string.replace(\"apple\", \"orange\") #replace will replace all occurrence related to it and make a copy\n",
        "print(replaced_string)"
      ],
      "metadata": {
        "colab": {
          "base_uri": "https://localhost:8080/"
        },
        "id": "D8gN5oRFAnYD",
        "outputId": "cfdd3e4c-e2d1-4ca4-cb1e-d32d182e41be"
      },
      "execution_count": 21,
      "outputs": [
        {
          "output_type": "stream",
          "name": "stdout",
          "text": [
            "I like orange\n"
          ]
        }
      ]
    },
    {
      "cell_type": "code",
      "source": [
        "# 6. Write a code to create a list with numbers 1 to 5 and print it\n",
        "my_list = []\n",
        "\n",
        "for i in range(1,6):\n",
        "  my_list.append(i)\n",
        "\n",
        "print(my_list)"
      ],
      "metadata": {
        "colab": {
          "base_uri": "https://localhost:8080/"
        },
        "id": "E0-Rd4akA6PQ",
        "outputId": "03efa6e4-6b88-452c-a9ba-61afefc1dc57"
      },
      "execution_count": 28,
      "outputs": [
        {
          "output_type": "stream",
          "name": "stdout",
          "text": [
            "[1, 2, 3, 4, 5]\n"
          ]
        }
      ]
    },
    {
      "cell_type": "code",
      "source": [
        "# 7. Write a code to append the number 10 to the list [1, 2, 3, 4]\n",
        "my_lst = [1, 2, 3, 4]\n",
        "my_lst.append(10) #it will append the new element at last in list + append return none if your print it directly\n",
        "print(my_lst)"
      ],
      "metadata": {
        "colab": {
          "base_uri": "https://localhost:8080/"
        },
        "id": "fAYm3_CoA4Ro",
        "outputId": "9fcfcd26-6d1a-41a5-ecce-ef2cf7984962"
      },
      "execution_count": 29,
      "outputs": [
        {
          "output_type": "stream",
          "name": "stdout",
          "text": [
            "[1, 2, 3, 4, 10]\n"
          ]
        }
      ]
    },
    {
      "cell_type": "code",
      "source": [
        "# 8. Write a code to remove the number 3 from the list [1, 2, 3, 4, 5]\n",
        "my_lst = [1, 2, 3, 4, 5]\n",
        "my_lst.remove(3) #it will remove the element , if element not found it throws exception. Other option pop, pop index\n",
        "print(my_lst)"
      ],
      "metadata": {
        "colab": {
          "base_uri": "https://localhost:8080/"
        },
        "id": "HdgVV_DFA8kB",
        "outputId": "46aeb91c-8b4a-44b9-b820-a02159dfea47"
      },
      "execution_count": 43,
      "outputs": [
        {
          "output_type": "stream",
          "name": "stdout",
          "text": [
            "[1, 2, 4, 5]\n"
          ]
        }
      ]
    },
    {
      "cell_type": "code",
      "source": [
        "# 9. Write a code to access the second element in the list ['a', 'b', 'c', 'd']\n",
        "my_lst = ['a', 'b', 'c', 'd']\n",
        "print(my_lst[1]) # as index starts from 0 so 2nd element will be 'b'"
      ],
      "metadata": {
        "colab": {
          "base_uri": "https://localhost:8080/"
        },
        "id": "HnznNo5kA93s",
        "outputId": "dd860f63-8ec8-4032-8359-9daa982f21a8"
      },
      "execution_count": 44,
      "outputs": [
        {
          "output_type": "stream",
          "name": "stdout",
          "text": [
            "b\n"
          ]
        }
      ]
    },
    {
      "cell_type": "code",
      "source": [
        "# 10. Write a code to reverse the list [10, 20, 30, 40, 50]\n",
        "my_lst = [10, 20, 30, 40, 50]\n",
        "\n",
        "reversed_lst = my_lst[::-1] #reverse by slicing\n",
        "print(reversed_lst)\n"
      ],
      "metadata": {
        "colab": {
          "base_uri": "https://localhost:8080/"
        },
        "id": "uVJro-aeA_dr",
        "outputId": "6d9eccf9-fe5c-4cc3-b740-58b1c238248a"
      },
      "execution_count": 50,
      "outputs": [
        {
          "output_type": "stream",
          "name": "stdout",
          "text": [
            "[50, 40, 30, 20, 10]\n"
          ]
        }
      ]
    },
    {
      "cell_type": "code",
      "source": [
        "# 11. Write a code to create a tuple with the elements 100, 200, 300 and print it.\n",
        "elements = input(\"Please enter your numbers by comma seperated: \")\n",
        "my_tuple = tuple(map(int, elements.split(','))) #here i have created dynamic tuple\n",
        "print(my_tuple)"
      ],
      "metadata": {
        "colab": {
          "base_uri": "https://localhost:8080/"
        },
        "id": "B7o8FqqZBAxD",
        "outputId": "ac3493b1-3019-429e-81af-86fd42975710"
      },
      "execution_count": 55,
      "outputs": [
        {
          "output_type": "stream",
          "name": "stdout",
          "text": [
            "Please enter your numbers by comma seperated: 100, 200, 300\n",
            "(100, 200, 300)\n"
          ]
        }
      ]
    },
    {
      "cell_type": "code",
      "source": [
        "# 12. Write a code to access the second-to-last element of the tuple ('red', 'green', 'blue', 'yellow').\n",
        "my_tuple = ('red', 'green', 'blue', 'yellow')\n",
        "sliced_my_tuple = my_tuple[-2] # second to last element i.e. blue used slice\n",
        "print(sliced_my_tuple)"
      ],
      "metadata": {
        "colab": {
          "base_uri": "https://localhost:8080/"
        },
        "id": "9nfOueGqBCiQ",
        "outputId": "98d9c6d5-dd4c-4556-d753-30e71a1fc47b"
      },
      "execution_count": 58,
      "outputs": [
        {
          "output_type": "stream",
          "name": "stdout",
          "text": [
            "blue\n"
          ]
        }
      ]
    },
    {
      "cell_type": "code",
      "source": [
        "# 13. Write a code to find the minimum number in the tuple (10, 20, 5, 15)\n",
        "my_tuple = (10, 20, 5, 15)\n",
        "min_tuple = min(my_tuple) #return min value from tuple\n",
        "print(min_tuple)"
      ],
      "metadata": {
        "colab": {
          "base_uri": "https://localhost:8080/"
        },
        "id": "3HgsGO-vBECV",
        "outputId": "5989d25a-1cfc-4046-b4dd-26bf90b2495d"
      },
      "execution_count": 59,
      "outputs": [
        {
          "output_type": "stream",
          "name": "stdout",
          "text": [
            "5\n"
          ]
        }
      ]
    },
    {
      "cell_type": "code",
      "source": [
        "# 14. Write a code to find the index of the element \"cat\" in the tuple ('dog', 'cat', 'rabbit').\n",
        "my_tuple = ('dog', 'cat', 'rabbit')\n",
        "index_tuple = my_tuple.index(\"cat\") # it return 1st occurrence in case of multi found + throws excepion in case of not found\n",
        "print(index_tuple)"
      ],
      "metadata": {
        "colab": {
          "base_uri": "https://localhost:8080/"
        },
        "id": "jzy74ZJCBGdH",
        "outputId": "bae40e5e-12c7-43b6-9b45-9c71bb48e905"
      },
      "execution_count": 63,
      "outputs": [
        {
          "output_type": "stream",
          "name": "stdout",
          "text": [
            "1\n"
          ]
        }
      ]
    },
    {
      "cell_type": "code",
      "source": [
        "# 15. Write a code to create a tuple containing three different fruits and check if \"kiwi\" is in it.\n",
        "elements = input(\"Please enter your fruits seperated by comma: \")\n",
        "my_tuple = tuple(map(str.strip, elements.split(','))) #i have used here strip to remove if any space comes\n",
        "\n",
        "if \"kiwi\" in my_tuple:\n",
        "  print(\"Yes boss 'kiwi' is available\")\n",
        "else:\n",
        "  print(\"No boss 'kiwi' is not available, please try later\")"
      ],
      "metadata": {
        "colab": {
          "base_uri": "https://localhost:8080/"
        },
        "id": "ULjZr6FxBHhX",
        "outputId": "a9bb480b-858b-44d2-ec80-62d678d22d4b"
      },
      "execution_count": 71,
      "outputs": [
        {
          "output_type": "stream",
          "name": "stdout",
          "text": [
            "Please enter your fruits seperated by comma: kiwi, banana,  apple\n",
            "Yes boss 'kiwi' is available\n"
          ]
        }
      ]
    },
    {
      "cell_type": "code",
      "source": [
        "# 16. Write a code to create a set with the elements 'a', 'b', 'c' and print it\n",
        "my_set = set() # simple {} will be treated as dict whether use {put atleast 1 element} or use set()\n",
        "my_set.add('a')\n",
        "my_set.add('b')\n",
        "my_set.add('c')\n",
        "\n",
        "print(my_set) #sets are unordered and printed or added in any order but it make sure it will be unique"
      ],
      "metadata": {
        "colab": {
          "base_uri": "https://localhost:8080/"
        },
        "id": "mkEf6cQZBJc9",
        "outputId": "fe6f5184-e92d-4527-97cf-53589d65c54c"
      },
      "execution_count": 76,
      "outputs": [
        {
          "output_type": "stream",
          "name": "stdout",
          "text": [
            "{'b', 'a', 'c'}\n"
          ]
        }
      ]
    },
    {
      "cell_type": "code",
      "source": [
        "# 17. Write a code to clear all elements from the set {1, 2, 3, 4, 5}.\n",
        "my_set = {1, 2, 3, 4, 5}\n",
        "my_set.clear() # it will truncate all elements not schema\n",
        "print(my_set)"
      ],
      "metadata": {
        "colab": {
          "base_uri": "https://localhost:8080/"
        },
        "id": "_Xr4x6AMBKz3",
        "outputId": "683580d4-05f5-471d-95eb-fe01c88a6aba"
      },
      "execution_count": 78,
      "outputs": [
        {
          "output_type": "stream",
          "name": "stdout",
          "text": [
            "set()\n"
          ]
        }
      ]
    },
    {
      "cell_type": "code",
      "source": [
        "# 18. Write a code to remove the element 4 from the set {1, 2, 3, 4}\n",
        "my_set = {1, 2, 3, 4}\n",
        "my_set.remove(4) # it will remove the element 4 but if element not available it will throw the exception, so we can use discard as well if we dont want error\n",
        "print(my_set)"
      ],
      "metadata": {
        "colab": {
          "base_uri": "https://localhost:8080/"
        },
        "id": "PH5rvdG7BL56",
        "outputId": "ecf20c98-9cbd-40e9-ec88-8122ce12c9b5"
      },
      "execution_count": 81,
      "outputs": [
        {
          "output_type": "stream",
          "name": "stdout",
          "text": [
            "{1, 2, 3}\n"
          ]
        }
      ]
    },
    {
      "cell_type": "code",
      "source": [
        "# 19. Write a code to find the union of two sets {1, 2, 3} and {3, 4, 5}\n",
        "my_set1 = {1, 2, 3}\n",
        "my_set2 = {3, 4, 5}\n",
        "union_set = my_set1 | my_set2 #union (all elements but no duplicate) will be done by | or my_set1.union(my_set2)\n",
        "print(union_set)"
      ],
      "metadata": {
        "colab": {
          "base_uri": "https://localhost:8080/"
        },
        "id": "JQX8ZsYDBNHi",
        "outputId": "538d43c6-2b52-4380-df89-e64d03605521"
      },
      "execution_count": 84,
      "outputs": [
        {
          "output_type": "stream",
          "name": "stdout",
          "text": [
            "{1, 2, 3, 4, 5}\n"
          ]
        }
      ]
    },
    {
      "cell_type": "code",
      "source": [
        "# 20. Write a code to find the intersection of two sets {1, 2, 3} and {2, 3, 4}.\n",
        "my_set1 = {1, 2, 3}\n",
        "my_set2 = {2, 3, 4}\n",
        "intersection_set = my_set1 & my_set2 # intersection is common between both will be done by & or my_set1.intersection(my_set2)\n",
        "print(intersection_set)"
      ],
      "metadata": {
        "colab": {
          "base_uri": "https://localhost:8080/"
        },
        "id": "N3NN9yAnBOVE",
        "outputId": "0733304d-72fa-4ee7-a851-2ec69e33badf"
      },
      "execution_count": 87,
      "outputs": [
        {
          "output_type": "stream",
          "name": "stdout",
          "text": [
            "{2, 3}\n"
          ]
        }
      ]
    },
    {
      "cell_type": "code",
      "source": [
        "# 21. Write a code to create a dictionary with the keys \"name\", \"age\", and \"city\", and print it.\n",
        "my_name = input(\"Please enter your name: \")\n",
        "my_age = int(input(\"Please enter your age: \"))\n",
        "my_city = input(\"Please enter your city: \")\n",
        "\n",
        "my_dict = {\"name\" : my_name, \"age\" : my_age, \"city\" : my_city} # created dynamic dict\n",
        "print(my_dict)"
      ],
      "metadata": {
        "colab": {
          "base_uri": "https://localhost:8080/"
        },
        "id": "CSHj_8e3BuBr",
        "outputId": "230c5a9d-38c0-47e9-9775-fe4eeab0c41f"
      },
      "execution_count": 2,
      "outputs": [
        {
          "output_type": "stream",
          "name": "stdout",
          "text": [
            "Please enter your name: Khushboo\n",
            "Please enter your age: 24\n",
            "Please enter your city: Delhi\n",
            "{'name': 'Khushboo', 'age': 24, 'city': 'Delhi'}\n"
          ]
        }
      ]
    },
    {
      "cell_type": "code",
      "source": [
        "# 22. Write a code to add a new key-value pair \"country\": \"USA\" to the dictionary {'name': 'John', 'age': 25}.\n",
        "my_dict = {'name': 'John', 'age': 25}\n",
        "\n",
        "my_dict[\"country\"] = \"USA\"\n",
        "print(my_dict)"
      ],
      "metadata": {
        "colab": {
          "base_uri": "https://localhost:8080/"
        },
        "id": "LkRM3gJGBvTI",
        "outputId": "8db8e1c6-69cc-4bad-f460-3e9ab9a79071"
      },
      "execution_count": 4,
      "outputs": [
        {
          "output_type": "stream",
          "name": "stdout",
          "text": [
            "{'name': 'John', 'age': 25, 'country': 'USA'}\n"
          ]
        }
      ]
    },
    {
      "cell_type": "code",
      "source": [
        "# 23. Write a code to access the value associated with the key \"name\" in the dictionary {'name': 'Alice', 'age': 30}.\n",
        "my_dict = {'name': 'Alice', 'age': 30}\n",
        "\n",
        "# if key does not exist it will throw the exception, we can use get as well my_dict.get(\"name\"), it will not throw any exception when key not exist(returns none)\n",
        "print(my_dict[\"name\"])"
      ],
      "metadata": {
        "colab": {
          "base_uri": "https://localhost:8080/"
        },
        "id": "l8ZxzreVBw1e",
        "outputId": "bdbe85ad-8a36-4417-d4ed-50fc48115265"
      },
      "execution_count": 9,
      "outputs": [
        {
          "output_type": "stream",
          "name": "stdout",
          "text": [
            "Alice\n"
          ]
        }
      ]
    },
    {
      "cell_type": "code",
      "source": [
        "# 24. Write a code to remove the key \"age\" from the dictionary {'name': 'Bob', 'age': 22, 'city': 'New York'}.\n",
        "my_dict = {'name': 'Bob', 'age': 22, 'city': 'New York'}\n",
        "\n",
        "my_dict.pop('age') # pop and del my_dict['age'] are used to remove element from dict, both will throw exception if key not exist\n",
        "print(my_dict)"
      ],
      "metadata": {
        "colab": {
          "base_uri": "https://localhost:8080/"
        },
        "id": "2kjeS9JABx3r",
        "outputId": "a1392434-ff84-4e5a-c823-2e56c36206f8"
      },
      "execution_count": 15,
      "outputs": [
        {
          "output_type": "stream",
          "name": "stdout",
          "text": [
            "{'name': 'Bob', 'city': 'New York'}\n"
          ]
        }
      ]
    },
    {
      "cell_type": "code",
      "source": [
        "# 25. Write a code to check if the key \"city\" exists in the dictionary {'name': 'Alice', 'city': 'Paris'}.\n",
        "my_dict = {'name': 'Alice', 'city': 'Paris'}\n",
        "\n",
        "if 'city' in my_dict:\n",
        "  print(\"City exists in my_dict\")\n",
        "else:\n",
        "  print(\"City does not exist\")"
      ],
      "metadata": {
        "colab": {
          "base_uri": "https://localhost:8080/"
        },
        "id": "8_OQZEgtBzKB",
        "outputId": "bcdb1035-890f-43dc-8ada-f419f2ce9cc4"
      },
      "execution_count": 20,
      "outputs": [
        {
          "output_type": "stream",
          "name": "stdout",
          "text": [
            "City exists in my_dict\n"
          ]
        }
      ]
    },
    {
      "cell_type": "code",
      "source": [
        "# 26. Write a code to create a list, a tuple, and a dictionary, and print them all.\n",
        "\n",
        "# list\n",
        "print(\"List Elements\")\n",
        "list_elements = input(\"Please enter your List elements by commas seperated: \")\n",
        "my_list = list(map(int, list_elements.split(',')))\n",
        "\n",
        "print()\n",
        "\n",
        "# tuple\n",
        "print(\"Tuple Elements\")\n",
        "tuple_input = input(\"Please enter your tuple elements by commas seperated: \")\n",
        "my_tuple = tuple(item.strip() for item in tuple_input.split(','))\n",
        "print()\n",
        "\n",
        "# dictionary\n",
        "print(\"Dict Elements\")\n",
        "my_name = input(\"Please enter your dict name: \")\n",
        "my_age = int(input(\"Please enter your dict age: \"))\n",
        "my_city = input(\"Please enter your dict city: \")\n",
        "my_dict = {\"name\" : my_name, \"age\" : my_age, \"city\" : my_city} # created dynamic dict\n",
        "print()\n",
        "\n",
        "# printing\n",
        "print(\"Printing List: \", my_list)\n",
        "print()\n",
        "print(\"Printing Tuple: \", my_tuple)\n",
        "print()\n",
        "print(\"Printing Dictionary: \", my_dict)\n",
        "print()"
      ],
      "metadata": {
        "colab": {
          "base_uri": "https://localhost:8080/"
        },
        "id": "0vty4bsUB0Sa",
        "outputId": "8d250d19-adf5-48d7-f34b-f8163f503fee"
      },
      "execution_count": 26,
      "outputs": [
        {
          "output_type": "stream",
          "name": "stdout",
          "text": [
            "List Elements\n",
            "Please enter your List elements by commas seperated: 2,6,8,3\n",
            "\n",
            "Tuple Elements\n",
            "Please enter your tuple elements by commas seperated: 4,3,9\n",
            "\n",
            "Dict Elements\n",
            "Please enter your dict name: Khushboo\n",
            "Please enter your dict age: 24\n",
            "Please enter your dict city: Delhi\n",
            "\n",
            "Printing List:  [2, 6, 8, 3]\n",
            "\n",
            "Printing Tuple:  ('4', '3', '9')\n",
            "\n",
            "Printing Dictionary:  {'name': 'Khushboo', 'age': 24, 'city': 'Delhi'}\n",
            "\n"
          ]
        }
      ]
    },
    {
      "cell_type": "code",
      "source": [
        "'''\n",
        "# 27. Write a code to create a list of 5 random numbers between 1 and 100, sort it in ascending order, and print the\n",
        "result.(replaced)\n",
        "'''\n",
        "import random\n",
        "\n",
        "random_list = [random.randint(1, 100) for i in range(5)]\n",
        "random_list.sort()\n",
        "\n",
        "print(\"Final sorted list:\", random_list)"
      ],
      "metadata": {
        "colab": {
          "base_uri": "https://localhost:8080/"
        },
        "id": "M5OPvB2KB1VO",
        "outputId": "f0c1709a-6cc7-4c83-bfdb-28136ab183d0"
      },
      "execution_count": 31,
      "outputs": [
        {
          "output_type": "stream",
          "name": "stdout",
          "text": [
            "Final sorted list: [1, 4, 57, 71, 98]\n"
          ]
        }
      ]
    },
    {
      "cell_type": "code",
      "source": [
        "# 28. Write a code to create a list with strings and print the element at the third index.\n",
        "list_elements = input(\"Please enter your List with string elements by commas seperated: \")\n",
        "my_list = list(map(str.strip, list_elements.split(',')))\n",
        "\n",
        "print(\"Element at index 2:\", my_list[2])\n"
      ],
      "metadata": {
        "colab": {
          "base_uri": "https://localhost:8080/"
        },
        "id": "GUQZM3PPB2Z7",
        "outputId": "65aed4a5-ba25-401b-9085-9b411975b3a3"
      },
      "execution_count": 33,
      "outputs": [
        {
          "output_type": "stream",
          "name": "stdout",
          "text": [
            "Please enter your List with string elements by commas seperated: Khushboo, Arvind, Rita, Anil\n",
            "Element at index 2: Rita\n"
          ]
        }
      ]
    },
    {
      "cell_type": "code",
      "source": [
        "#29. Write a code to combine two dictionaries into one and print the result.\n",
        "print(\"1st Dict Elements\")\n",
        "my_name = input(\"Please enter your dict name: \")\n",
        "my_age = int(input(\"Please enter your dict age: \"))\n",
        "my_city = input(\"Please enter your dict city: \")\n",
        "\n",
        "my_dict1 = {\"name\" : my_name, \"age\" : my_age, \"city\" : my_city} # created dynamic dict\n",
        "print()\n",
        "\n",
        "print(\"2nd Course Dict Elements\")\n",
        "my_course = input(\"Please enter your course name: \")\n",
        "my_price = int(input(\"Please enter your course price: \"))\n",
        "\n",
        "my_dict2 = {\"course_name\" : my_course, \"price\" : my_price} # created dynamic dict\n",
        "print()\n",
        "\n",
        "my_dict1.update(my_dict2) # it will update the my_dict1\n",
        "print(my_dict1)"
      ],
      "metadata": {
        "colab": {
          "base_uri": "https://localhost:8080/"
        },
        "id": "1qwlXo0-B3fz",
        "outputId": "0a32e95d-dc1c-49ac-a2f9-e649c6fcf2f8"
      },
      "execution_count": 38,
      "outputs": [
        {
          "output_type": "stream",
          "name": "stdout",
          "text": [
            "1st Dict Elements\n",
            "Please enter your dict name: Khushboo\n",
            "Please enter your dict age: 24\n",
            "Please enter your dict city: Delhi\n",
            "\n",
            "2nd Course Dict Elements\n",
            "Please enter your course name: Python\n",
            "Please enter your course price: 100\n",
            "\n",
            "{'name': 'Khushboo', 'age': 24, 'city': 'Delhi', 'course_name': 'Python', 'price': 100}\n"
          ]
        }
      ]
    },
    {
      "cell_type": "code",
      "source": [
        "#30. Write a code to convert a list of strings into a set.\n",
        "list_elements = input(\"Please enter your List with string elements by commas seperated: \")\n",
        "my_list = list(map(str.strip, list_elements.split(',')))\n",
        "\n",
        "# convert list to set\n",
        "my_set = set(my_list)\n",
        "\n",
        "print(my_set)"
      ],
      "metadata": {
        "colab": {
          "base_uri": "https://localhost:8080/"
        },
        "id": "sTaqV0y2B4mK",
        "outputId": "540c5135-a84a-4f9a-a9a0-f07f259f017a"
      },
      "execution_count": 40,
      "outputs": [
        {
          "output_type": "stream",
          "name": "stdout",
          "text": [
            "Please enter your List with string elements by commas seperated: Khushboo, Arvind, Khushi, Rita, Anil\n",
            "{'Khushboo', 'Khushi', 'Rita', 'Arvind', 'Anil'}\n"
          ]
        }
      ]
    }
  ]
}